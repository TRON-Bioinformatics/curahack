{
 "cells": [
  {
   "metadata": {},
   "cell_type": "markdown",
   "source": [
    "# Prototype 2 results\n",
    "\n"
   ],
   "id": "479f9bd16abf2e"
  },
  {
   "metadata": {
    "ExecuteTime": {
     "end_time": "2024-04-09T13:13:30.501828Z",
     "start_time": "2024-04-09T13:13:30.498278Z"
    }
   },
   "cell_type": "code",
   "source": [
    "import pandas as pd\n",
    "import numpy as np\n",
    "import gtfparse\n",
    "import polars as pl\n",
    "import seaborn as sns\n",
    "import matplotlib.pyplot as plt"
   ],
   "id": "ca996a70bfbbfec9",
   "outputs": [],
   "execution_count": 114
  },
  {
   "metadata": {},
   "cell_type": "markdown",
   "source": "## Load data",
   "id": "902d9de2b2e15c77"
  },
  {
   "metadata": {
    "ExecuteTime": {
     "end_time": "2024-04-09T12:41:31.523813Z",
     "start_time": "2024-04-09T12:41:31.504812Z"
    }
   },
   "cell_type": "code",
   "source": [
    "def load_gene_expr(version):\n",
    "    \n",
    "    gtf = gtfparse.read_gtf(f\"../../reference/Homo_sapiens.GRCh38.{version}.chr1.gtf.gz\")\n",
    "    chr1_genes = [g['gene_id'] for g in gtf.filter(pl.col(\"feature\") == \"gene\").iter_rows(named=True)]\n",
    "    \n",
    "    samples = [\"Control_siRNA\", \"STAT5A_siRNA\", \"STAT5B_siRNA\"]\n",
    "    replicas = [\"1\", \"2\", \"3\"]\n",
    "    dfs = []\n",
    "    for s in samples:\n",
    "        for r in replicas:\n",
    "            tmp_df =  pd.read_csv(f'../../kallisto_results/v{version}/{s}_{r}/gene_expr.csv', sep=\";\")\n",
    "            tmp_df[\"treatment\"] = s\n",
    "            tmp_df[\"replicate\"] = r\n",
    "            dfs.append(tmp_df[tmp_df.gene_id.isin(chr1_genes)])\n",
    "            \n",
    "    df = pd.concat(dfs)\n",
    "    \n",
    "    # print number of rows\n",
    "    print(f\"Number of rows: {df.shape[0]}\")\n",
    "    \n",
    "    return df"
   ],
   "id": "38108d913be42311",
   "outputs": [],
   "execution_count": 85
  },
  {
   "metadata": {
    "ExecuteTime": {
     "end_time": "2024-04-09T12:40:49.645136Z",
     "start_time": "2024-04-09T12:40:48.871668Z"
    }
   },
   "cell_type": "code",
   "source": "gtf = gtfparse.parse_gtf(f\"../../reference/Homo_sapiens.GRCh38.86.chr1.gtf.gz\")",
   "id": "170ff4e213ac0d57",
   "outputs": [],
   "execution_count": 81
  },
  {
   "metadata": {
    "ExecuteTime": {
     "end_time": "2024-04-09T12:41:06.690715Z",
     "start_time": "2024-04-09T12:41:06.682484Z"
    }
   },
   "cell_type": "code",
   "source": "gtf.columns",
   "id": "e5322044979c6db8",
   "outputs": [
    {
     "data": {
      "text/plain": [
       "['seqname',\n",
       " 'source',\n",
       " 'feature',\n",
       " 'start',\n",
       " 'end',\n",
       " 'score',\n",
       " 'strand',\n",
       " 'frame',\n",
       " 'attribute',\n",
       " 'attribute_split']"
      ]
     },
     "execution_count": 83,
     "metadata": {},
     "output_type": "execute_result"
    }
   ],
   "execution_count": 83
  },
  {
   "metadata": {
    "ExecuteTime": {
     "end_time": "2024-04-09T12:41:45.231180Z",
     "start_time": "2024-04-09T12:41:37.369449Z"
    }
   },
   "cell_type": "code",
   "source": [
    "df_109 = load_gene_expr(version=\"109\")\n",
    "df_109.head()"
   ],
   "id": "d4e577387f2b6921",
   "outputs": [
    {
     "name": "stderr",
     "output_type": "stream",
     "text": [
      "INFO:root:Extracted GTF attributes: ['gene_id', 'gene_version', 'gene_name', 'gene_source', 'gene_biotype', 'transcript_id', 'transcript_version', 'transcript_name', 'transcript_source', 'transcript_biotype', 'tag', 'ccds_id', 'exon_number', 'exon_id', 'exon_version', 'protein_id', 'protein_version', 'transcript_support_level']\n"
     ]
    },
    {
     "name": "stdout",
     "output_type": "stream",
     "text": [
      "Number of rows: 30249\n"
     ]
    },
    {
     "data": {
      "text/plain": [
       "            gene_id gene_symbol      avg_len  count         rpkm          tpm  \\\n",
       "3   ENSG00000000457       SCYL3  3113.890000    294    17.096702    24.603750   \n",
       "4   ENSG00000000460    C1orf112  2359.200667    137    10.549832     9.957120   \n",
       "5   ENSG00000000938         FGR  1650.232571  10109  1110.378277  1157.489000   \n",
       "6   ENSG00000000971         CFH  2892.218154     87     5.474013    10.179316   \n",
       "10  ENSG00000001460       STPG1  1612.589417    122    13.726298    11.337379   \n",
       "\n",
       "        treatment replicate  \n",
       "3   Control_siRNA         1  \n",
       "4   Control_siRNA         1  \n",
       "5   Control_siRNA         1  \n",
       "6   Control_siRNA         1  \n",
       "10  Control_siRNA         1  "
      ],
      "text/html": [
       "<div>\n",
       "<style scoped>\n",
       "    .dataframe tbody tr th:only-of-type {\n",
       "        vertical-align: middle;\n",
       "    }\n",
       "\n",
       "    .dataframe tbody tr th {\n",
       "        vertical-align: top;\n",
       "    }\n",
       "\n",
       "    .dataframe thead th {\n",
       "        text-align: right;\n",
       "    }\n",
       "</style>\n",
       "<table border=\"1\" class=\"dataframe\">\n",
       "  <thead>\n",
       "    <tr style=\"text-align: right;\">\n",
       "      <th></th>\n",
       "      <th>gene_id</th>\n",
       "      <th>gene_symbol</th>\n",
       "      <th>avg_len</th>\n",
       "      <th>count</th>\n",
       "      <th>rpkm</th>\n",
       "      <th>tpm</th>\n",
       "      <th>treatment</th>\n",
       "      <th>replicate</th>\n",
       "    </tr>\n",
       "  </thead>\n",
       "  <tbody>\n",
       "    <tr>\n",
       "      <th>3</th>\n",
       "      <td>ENSG00000000457</td>\n",
       "      <td>SCYL3</td>\n",
       "      <td>3113.890000</td>\n",
       "      <td>294</td>\n",
       "      <td>17.096702</td>\n",
       "      <td>24.603750</td>\n",
       "      <td>Control_siRNA</td>\n",
       "      <td>1</td>\n",
       "    </tr>\n",
       "    <tr>\n",
       "      <th>4</th>\n",
       "      <td>ENSG00000000460</td>\n",
       "      <td>C1orf112</td>\n",
       "      <td>2359.200667</td>\n",
       "      <td>137</td>\n",
       "      <td>10.549832</td>\n",
       "      <td>9.957120</td>\n",
       "      <td>Control_siRNA</td>\n",
       "      <td>1</td>\n",
       "    </tr>\n",
       "    <tr>\n",
       "      <th>5</th>\n",
       "      <td>ENSG00000000938</td>\n",
       "      <td>FGR</td>\n",
       "      <td>1650.232571</td>\n",
       "      <td>10109</td>\n",
       "      <td>1110.378277</td>\n",
       "      <td>1157.489000</td>\n",
       "      <td>Control_siRNA</td>\n",
       "      <td>1</td>\n",
       "    </tr>\n",
       "    <tr>\n",
       "      <th>6</th>\n",
       "      <td>ENSG00000000971</td>\n",
       "      <td>CFH</td>\n",
       "      <td>2892.218154</td>\n",
       "      <td>87</td>\n",
       "      <td>5.474013</td>\n",
       "      <td>10.179316</td>\n",
       "      <td>Control_siRNA</td>\n",
       "      <td>1</td>\n",
       "    </tr>\n",
       "    <tr>\n",
       "      <th>10</th>\n",
       "      <td>ENSG00000001460</td>\n",
       "      <td>STPG1</td>\n",
       "      <td>1612.589417</td>\n",
       "      <td>122</td>\n",
       "      <td>13.726298</td>\n",
       "      <td>11.337379</td>\n",
       "      <td>Control_siRNA</td>\n",
       "      <td>1</td>\n",
       "    </tr>\n",
       "  </tbody>\n",
       "</table>\n",
       "</div>"
      ]
     },
     "execution_count": 86,
     "metadata": {},
     "output_type": "execute_result"
    }
   ],
   "execution_count": 86
  },
  {
   "metadata": {
    "ExecuteTime": {
     "end_time": "2024-04-09T12:42:23.964182Z",
     "start_time": "2024-04-09T12:42:16.585720Z"
    }
   },
   "cell_type": "code",
   "source": "df_86 = load_gene_expr(version=\"86\")",
   "id": "2f0e49e8e8c22a23",
   "outputs": [
    {
     "name": "stderr",
     "output_type": "stream",
     "text": [
      "INFO:root:Extracted GTF attributes: ['gene_id', 'gene_version', 'gene_name', 'gene_source', 'gene_biotype', 'havana_gene', 'havana_gene_version', 'transcript_id', 'transcript_version', 'transcript_name', 'transcript_source', 'transcript_biotype', 'havana_transcript', 'havana_transcript_version', 'tag', 'transcript_support_level', 'exon_number', 'exon_id', 'exon_version', 'ccds_id', 'protein_id', 'protein_version']\n"
     ]
    },
    {
     "name": "stdout",
     "output_type": "stream",
     "text": [
      "Number of rows: 29502\n"
     ]
    }
   ],
   "execution_count": 87
  },
  {
   "metadata": {
    "ExecuteTime": {
     "end_time": "2024-04-09T12:42:31.730941Z",
     "start_time": "2024-04-09T12:42:23.965756Z"
    }
   },
   "cell_type": "code",
   "source": "df_108 = load_gene_expr(version=\"108\")",
   "id": "299a1e1503ee6bba",
   "outputs": [
    {
     "name": "stderr",
     "output_type": "stream",
     "text": [
      "INFO:root:Extracted GTF attributes: ['gene_id', 'gene_version', 'gene_name', 'gene_source', 'gene_biotype', 'transcript_id', 'transcript_version', 'transcript_name', 'transcript_source', 'transcript_biotype', 'tag', 'ccds_id', 'exon_number', 'exon_id', 'exon_version', 'protein_id', 'protein_version', 'transcript_support_level']\n"
     ]
    },
    {
     "name": "stdout",
     "output_type": "stream",
     "text": [
      "Number of rows: 30249\n"
     ]
    }
   ],
   "execution_count": 88
  },
  {
   "metadata": {
    "ExecuteTime": {
     "end_time": "2024-04-09T11:48:16.139748Z",
     "start_time": "2024-04-09T11:48:16.126547Z"
    }
   },
   "cell_type": "code",
   "source": [
    "def load_identical_genes(version1, version2):\n",
    "    df = pd.read_csv(f'../output/{version1}.vs.{version2}.csv')\n",
    "    identical_genes_different_id = df[df.gene_id_1 != df.gene_id_2].shape[0]\n",
    "    print(f\"Number of identical genes with different ids: {identical_genes_different_id}\")\n",
    "    return df"
   ],
   "id": "de801f793a70e615",
   "outputs": [],
   "execution_count": 38
  },
  {
   "metadata": {
    "ExecuteTime": {
     "end_time": "2024-04-09T11:48:17.906927Z",
     "start_time": "2024-04-09T11:48:17.882710Z"
    }
   },
   "cell_type": "code",
   "source": [
    "df_109_vs_86 = load_identical_genes(version1=\"109\", version2=\"86\")\n",
    "df_109_vs_86.head()"
   ],
   "id": "263a2c8ac9f1b5f1",
   "outputs": [
    {
     "name": "stdout",
     "output_type": "stream",
     "text": [
      "Number of identical genes with different ids: 13\n"
     ]
    },
    {
     "data": {
      "text/plain": [
       "         gene_id_1        gene_id_2\n",
       "0  ENSG00000228037  ENSG00000228037\n",
       "1  ENSG00000269896  ENSG00000269896\n",
       "2  ENSG00000260972  ENSG00000260972\n",
       "3  ENSG00000224340  ENSG00000224340\n",
       "4  ENSG00000229280  ENSG00000229280"
      ],
      "text/html": [
       "<div>\n",
       "<style scoped>\n",
       "    .dataframe tbody tr th:only-of-type {\n",
       "        vertical-align: middle;\n",
       "    }\n",
       "\n",
       "    .dataframe tbody tr th {\n",
       "        vertical-align: top;\n",
       "    }\n",
       "\n",
       "    .dataframe thead th {\n",
       "        text-align: right;\n",
       "    }\n",
       "</style>\n",
       "<table border=\"1\" class=\"dataframe\">\n",
       "  <thead>\n",
       "    <tr style=\"text-align: right;\">\n",
       "      <th></th>\n",
       "      <th>gene_id_1</th>\n",
       "      <th>gene_id_2</th>\n",
       "    </tr>\n",
       "  </thead>\n",
       "  <tbody>\n",
       "    <tr>\n",
       "      <th>0</th>\n",
       "      <td>ENSG00000228037</td>\n",
       "      <td>ENSG00000228037</td>\n",
       "    </tr>\n",
       "    <tr>\n",
       "      <th>1</th>\n",
       "      <td>ENSG00000269896</td>\n",
       "      <td>ENSG00000269896</td>\n",
       "    </tr>\n",
       "    <tr>\n",
       "      <th>2</th>\n",
       "      <td>ENSG00000260972</td>\n",
       "      <td>ENSG00000260972</td>\n",
       "    </tr>\n",
       "    <tr>\n",
       "      <th>3</th>\n",
       "      <td>ENSG00000224340</td>\n",
       "      <td>ENSG00000224340</td>\n",
       "    </tr>\n",
       "    <tr>\n",
       "      <th>4</th>\n",
       "      <td>ENSG00000229280</td>\n",
       "      <td>ENSG00000229280</td>\n",
       "    </tr>\n",
       "  </tbody>\n",
       "</table>\n",
       "</div>"
      ]
     },
     "execution_count": 39,
     "metadata": {},
     "output_type": "execute_result"
    }
   ],
   "execution_count": 39
  },
  {
   "metadata": {
    "ExecuteTime": {
     "end_time": "2024-04-09T11:48:53.722913Z",
     "start_time": "2024-04-09T11:48:53.709754Z"
    }
   },
   "cell_type": "code",
   "source": [
    "df_109_vs_108 = load_identical_genes(version1=\"109\", version2=\"108\")\n",
    "df_109_vs_108.head()"
   ],
   "id": "782df13534f0527b",
   "outputs": [
    {
     "name": "stdout",
     "output_type": "stream",
     "text": [
      "Number of identical genes with different ids: 0\n"
     ]
    },
    {
     "data": {
      "text/plain": [
       "         gene_id_1        gene_id_2\n",
       "0  ENSG00000160072  ENSG00000160072\n",
       "1  ENSG00000279928  ENSG00000279928\n",
       "2  ENSG00000228037  ENSG00000228037\n",
       "3  ENSG00000142611  ENSG00000142611\n",
       "4  ENSG00000284616  ENSG00000284616"
      ],
      "text/html": [
       "<div>\n",
       "<style scoped>\n",
       "    .dataframe tbody tr th:only-of-type {\n",
       "        vertical-align: middle;\n",
       "    }\n",
       "\n",
       "    .dataframe tbody tr th {\n",
       "        vertical-align: top;\n",
       "    }\n",
       "\n",
       "    .dataframe thead th {\n",
       "        text-align: right;\n",
       "    }\n",
       "</style>\n",
       "<table border=\"1\" class=\"dataframe\">\n",
       "  <thead>\n",
       "    <tr style=\"text-align: right;\">\n",
       "      <th></th>\n",
       "      <th>gene_id_1</th>\n",
       "      <th>gene_id_2</th>\n",
       "    </tr>\n",
       "  </thead>\n",
       "  <tbody>\n",
       "    <tr>\n",
       "      <th>0</th>\n",
       "      <td>ENSG00000160072</td>\n",
       "      <td>ENSG00000160072</td>\n",
       "    </tr>\n",
       "    <tr>\n",
       "      <th>1</th>\n",
       "      <td>ENSG00000279928</td>\n",
       "      <td>ENSG00000279928</td>\n",
       "    </tr>\n",
       "    <tr>\n",
       "      <th>2</th>\n",
       "      <td>ENSG00000228037</td>\n",
       "      <td>ENSG00000228037</td>\n",
       "    </tr>\n",
       "    <tr>\n",
       "      <th>3</th>\n",
       "      <td>ENSG00000142611</td>\n",
       "      <td>ENSG00000142611</td>\n",
       "    </tr>\n",
       "    <tr>\n",
       "      <th>4</th>\n",
       "      <td>ENSG00000284616</td>\n",
       "      <td>ENSG00000284616</td>\n",
       "    </tr>\n",
       "  </tbody>\n",
       "</table>\n",
       "</div>"
      ]
     },
     "execution_count": 40,
     "metadata": {},
     "output_type": "execute_result"
    }
   ],
   "execution_count": 40
  },
  {
   "metadata": {},
   "cell_type": "markdown",
   "source": "## Compare results",
   "id": "8f21ac434b07a9a6"
  },
  {
   "metadata": {
    "ExecuteTime": {
     "end_time": "2024-04-09T13:41:37.001930Z",
     "start_time": "2024-04-09T13:41:36.991499Z"
    }
   },
   "cell_type": "code",
   "source": [
    "def compare_results(df1, df2, identical_genes, suffix1=\"_1\", suffix2=\"_2\"):\n",
    "    \n",
    "    merged_df = pd.merge(df1, df2, on=['gene_id', 'treatment', 'replicate'], suffixes=(suffix1, suffix2), how='inner')\n",
    "\n",
    "    correlations_before = calculate_tpm_correlation(merged_df, suffix1, suffix2)\n",
    "    calculate_jaccard(df1, df2, merged_df)\n",
    "\n",
    "    merged_df_2 = None\n",
    "    if identical_genes is not None:\n",
    "        df1_with_gene_id_2 = pd.merge(df1, identical_genes, left_on='gene_id', right_on='gene_id_1',  how='inner')\n",
    "        merged_df_2 = pd.merge(df1_with_gene_id_2, df2, left_on=['gene_id_2', 'treatment', 'replicate'], \n",
    "                               right_on=['gene_id', 'treatment', 'replicate'], suffixes=(suffix1, suffix2), how='inner')\n",
    "        \n",
    "        correlations_after = calculate_tpm_correlation(merged_df_2, suffix1, suffix2, gene_column=f\"gene_id{suffix1}\")\n",
    "        calculate_jaccard(df1, df2, merged_df_2, gene_column=f\"gene_id{suffix1}\")\n",
    "        \n",
    "    # print median correlation\n",
    "    print(f\"Median correlation before: {np.median(correlations_before)}\")\n",
    "    print(f\"Median correlation after: {np.median(correlations_after)}\")\n",
    "    \n",
    "    return merged_df, merged_df_2, correlations_before, correlations_after\n",
    "\n",
    "\n",
    "def calculate_jaccard(df1, df2, merged_df, gene_column=\"gene_id\"):\n",
    "    shared_genes = len(merged_df[gene_column].unique())\n",
    "    print(f\"Number of shared genes: {shared_genes}\")\n",
    "    unique_1 = len(df1.gene_id.unique()) - shared_genes\n",
    "    unique_2 = len(df2.gene_id.unique()) - shared_genes\n",
    "    print(f\"Number of unique genes in df1: {unique_1}\")\n",
    "    print(f\"Number of unique genes in df2: {unique_2}\")\n",
    "    jaccard = shared_genes / (shared_genes + unique_1 + unique_2)\n",
    "    print(f\"Jaccard coefficient: {jaccard}\")\n",
    "    return jaccard\n",
    "\n",
    "\n",
    "def calculate_tpm_correlation(merged_df, suffix1, suffix2, gene_column=\"gene_id\"):\n",
    "    correlations = []\n",
    "    for g in merged_df[gene_column].unique():\n",
    "        gene_merged_df = merged_df[merged_df[gene_column] == g]\n",
    "        corrcoef = np.corrcoef(gene_merged_df['tpm' + suffix1], gene_merged_df['tpm' + suffix2])[0, 1]\n",
    "        if not np.isnan(corrcoef):\n",
    "            correlations.append(corrcoef)\n",
    "    return correlations\n"
   ],
   "id": "1753fc55c00be519",
   "outputs": [],
   "execution_count": 141
  },
  {
   "metadata": {
    "ExecuteTime": {
     "end_time": "2024-04-09T13:41:50.597990Z",
     "start_time": "2024-04-09T13:41:37.063916Z"
    }
   },
   "cell_type": "code",
   "source": [
    "control1_109_vs_86, control1_109_vs_86_2, corr_before, corr_after = compare_results(\n",
    "    df1=df_109, df2=df_86, suffix1=\"_109\", suffix2=\"_86\", identical_genes=df_109_vs_86)"
   ],
   "id": "bfb16fc04ad8f874",
   "outputs": [
    {
     "name": "stderr",
     "output_type": "stream",
     "text": [
      "/home/priesgo/src/curahack/venv/lib/python3.10/site-packages/numpy/lib/function_base.py:2897: RuntimeWarning: invalid value encountered in divide\n",
      "  c /= stddev[:, None]\n",
      "/home/priesgo/src/curahack/venv/lib/python3.10/site-packages/numpy/lib/function_base.py:2898: RuntimeWarning: invalid value encountered in divide\n",
      "  c /= stddev[None, :]\n"
     ]
    },
    {
     "name": "stdout",
     "output_type": "stream",
     "text": [
      "Number of shared genes: 3219\n",
      "Number of unique genes in df1: 142\n",
      "Number of unique genes in df2: 59\n",
      "Jaccard coefficient: 0.9412280701754386\n"
     ]
    },
    {
     "name": "stderr",
     "output_type": "stream",
     "text": [
      "/home/priesgo/src/curahack/venv/lib/python3.10/site-packages/numpy/lib/function_base.py:2897: RuntimeWarning: invalid value encountered in divide\n",
      "  c /= stddev[:, None]\n",
      "/home/priesgo/src/curahack/venv/lib/python3.10/site-packages/numpy/lib/function_base.py:2898: RuntimeWarning: invalid value encountered in divide\n",
      "  c /= stddev[None, :]\n"
     ]
    },
    {
     "name": "stdout",
     "output_type": "stream",
     "text": [
      "Number of shared genes: 1235\n",
      "Number of unique genes in df1: 2126\n",
      "Number of unique genes in df2: 2043\n",
      "Jaccard coefficient: 0.22853441894892673\n",
      "Median correlation before: 0.9990092326016159\n",
      "Median correlation after: 0.999999178803036\n"
     ]
    }
   ],
   "execution_count": 142
  },
  {
   "metadata": {
    "ExecuteTime": {
     "end_time": "2024-04-09T13:41:10.658547Z",
     "start_time": "2024-04-09T13:41:10.430253Z"
    }
   },
   "cell_type": "code",
   "source": [
    "df_correlations_before = pd.DataFrame({'correlations':corr_before})\n",
    "df_correlations_before[\"method\"] = \"Gene id match\"\n",
    "df_correlations_after = pd.DataFrame({'correlations':corr_after})\n",
    "df_correlations_after[\"method\"] = \"Exact gene/transcript model match\"\n",
    "df_correlations = pd.concat([df_correlations_before, df_correlations_after])\n",
    "\n",
    "sns.boxplot(data=df_correlations.reset_index(), x='method', y='correlations', hue='method')\n",
    "# log transform x axis\n",
    "#plt.yscale('log')\n",
    "plt.xlabel(None)\n",
    "plt.ylabel(None)\n",
    "plt.title(\"TPM correlations by gene across samples (N=6) between Ensembl GTF v86 vs v109\")\n",
    "sns.despine()"
   ],
   "id": "14fda7ed50b29dd4",
   "outputs": [
    {
     "data": {
      "text/plain": [
       "<Figure size 640x480 with 1 Axes>"
      ],
      "image/png": "[encoded data removed]"
     },
     "metadata": {},
     "output_type": "display_data"
    }
   ],
   "execution_count": 139
  },
  {
   "metadata": {
    "ExecuteTime": {
     "end_time": "2024-04-09T13:42:15.559811Z",
     "start_time": "2024-04-09T13:41:50.599684Z"
    }
   },
   "cell_type": "code",
   "source": [
    "control1_109_vs_86, control1_108_vs_86_2, corr_before, corr_after = compare_results(\n",
    "    df1=df_109, df2=df_108, suffix1=\"_109\", suffix2=\"_108\", identical_genes=df_109_vs_108)"
   ],
   "id": "67456fb8f721427f",
   "outputs": [
    {
     "name": "stderr",
     "output_type": "stream",
     "text": [
      "/home/priesgo/src/curahack/venv/lib/python3.10/site-packages/numpy/lib/function_base.py:2897: RuntimeWarning: invalid value encountered in divide\n",
      "  c /= stddev[:, None]\n"
     ]
    },
    {
     "name": "stdout",
     "output_type": "stream",
     "text": [
      "Number of shared genes: 3361\n",
      "Number of unique genes in df1: 0\n",
      "Number of unique genes in df2: 0\n",
      "Jaccard coefficient: 1.0\n"
     ]
    },
    {
     "name": "stderr",
     "output_type": "stream",
     "text": [
      "/home/priesgo/src/curahack/venv/lib/python3.10/site-packages/numpy/lib/function_base.py:2897: RuntimeWarning: invalid value encountered in divide\n",
      "  c /= stddev[:, None]\n"
     ]
    },
    {
     "name": "stdout",
     "output_type": "stream",
     "text": [
      "Number of shared genes: 3347\n",
      "Number of unique genes in df1: 14\n",
      "Number of unique genes in df2: 14\n",
      "Jaccard coefficient: 0.9917037037037038\n",
      "Median correlation before: 0.9999999965588872\n",
      "Median correlation after: 0.9999999966047652\n"
     ]
    }
   ],
   "execution_count": 143
  },
  {
   "metadata": {
    "ExecuteTime": {
     "end_time": "2024-04-09T13:21:23.348613Z",
     "start_time": "2024-04-09T13:21:23.084214Z"
    }
   },
   "cell_type": "code",
   "source": [
    "df_correlations_before = pd.DataFrame({'correlations':corr_before})\n",
    "df_correlations_before[\"method\"] = \"Gene id match\"\n",
    "df_correlations_after = pd.DataFrame({'correlations':corr_after})\n",
    "df_correlations_after[\"method\"] = \"Exact gene/transcript model match\"\n",
    "df_correlations = pd.concat([df_correlations_before, df_correlations_after])\n",
    "\n",
    "sns.boxplot(data=df_correlations.reset_index(), x='method', y='correlations', hue='method')\n",
    "# log transform x axis\n",
    "#plt.yscale('log')\n",
    "plt.xlabel(None)\n",
    "plt.ylabel(None)\n",
    "plt.title(\"TPM correlations by gene across samples (N=6) between Ensembl GTF v108 vs v109\")\n",
    "sns.despine()"
   ],
   "id": "d45ce1bfa834df4e",
   "outputs": [
    {
     "data": {
      "text/plain": [
       "<Figure size 640x480 with 1 Axes>"
      ],
      "image/png": "[encoded data removed]"
     },
     "metadata": {},
     "output_type": "display_data"
    }
   ],
   "execution_count": 126
  },
  {
   "metadata": {
    "ExecuteTime": {
     "end_time": "2024-04-09T12:25:45.709168Z",
     "start_time": "2024-04-09T12:25:45.673586Z"
    }
   },
   "cell_type": "code",
   "source": "len(control1_109_vs_86.gene_id.unique())",
   "id": "dcb504bc51382510",
   "outputs": [
    {
     "data": {
      "text/plain": [
       "34390"
      ]
     },
     "execution_count": 61,
     "metadata": {},
     "output_type": "execute_result"
    }
   ],
   "execution_count": 61
  },
  {
   "metadata": {
    "ExecuteTime": {
     "end_time": "2024-04-09T12:27:10.471284Z",
     "start_time": "2024-04-09T12:27:10.443955Z"
    }
   },
   "cell_type": "code",
   "source": "len(df_109.gene_id.unique())",
   "id": "3e11cb1e5544b340",
   "outputs": [
    {
     "data": {
      "text/plain": [
       "35658"
      ]
     },
     "execution_count": 62,
     "metadata": {},
     "output_type": "execute_result"
    }
   ],
   "execution_count": 62
  },
  {
   "metadata": {
    "ExecuteTime": {
     "end_time": "2024-04-09T12:10:05.422421Z",
     "start_time": "2024-04-09T12:10:05.409661Z"
    }
   },
   "cell_type": "code",
   "source": "control1_109_vs_86_2.head()",
   "id": "229dd8ad6b5a31a4",
   "outputs": [
    {
     "data": {
      "text/plain": [
       "       gene_id_109 gene_symbol_109  avg_len_109  count_109     rpkm_109  \\\n",
       "0  ENSG00000008130            NADK  1128.795118      12445  1998.432734   \n",
       "1  ENSG00000008130            NADK  1128.795118      12445  1998.432734   \n",
       "2  ENSG00000008130            NADK  1128.795118      12445  1998.432734   \n",
       "3  ENSG00000008130            NADK  1128.795118      12445  1998.432734   \n",
       "4  ENSG00000008130            NADK  1128.795118      12445  1998.432734   \n",
       "\n",
       "      tpm_109  treatment_109 replicate_109        gene_id_1        gene_id_2  \\\n",
       "0  1385.53875  Control_siRNA             1  ENSG00000008130  ENSG00000008130   \n",
       "1  1385.53875  Control_siRNA             1  ENSG00000008130  ENSG00000008130   \n",
       "2  1385.53875  Control_siRNA             1  ENSG00000008130  ENSG00000008130   \n",
       "3  1385.53875  Control_siRNA             1  ENSG00000008130  ENSG00000008130   \n",
       "4  1385.53875  Control_siRNA             1  ENSG00000008130  ENSG00000008130   \n",
       "\n",
       "        gene_id_86 gene_symbol_86   avg_len_86  count_86      rpkm_86  \\\n",
       "0  ENSG00000008130           NADK  1128.795118     12445  1998.433023   \n",
       "1  ENSG00000008130           NADK  1128.795882      9655  1949.244722   \n",
       "2  ENSG00000008130           NADK  1128.795882     11352  1915.690916   \n",
       "3  ENSG00000008130           NADK  1128.792824     14425  2257.191845   \n",
       "4  ENSG00000008130           NADK  1128.792059     13847  2227.900937   \n",
       "\n",
       "       tpm_86   treatment_86 replicate_86  \n",
       "0  1393.94722  Control_siRNA            1  \n",
       "1  1427.37100  Control_siRNA            2  \n",
       "2  1416.93483  Control_siRNA            3  \n",
       "3  1808.24930   STAT5A_siRNA            1  \n",
       "4  1847.57623   STAT5A_siRNA            2  "
      ],
      "text/html": [
       "<div>\n",
       "<style scoped>\n",
       "    .dataframe tbody tr th:only-of-type {\n",
       "        vertical-align: middle;\n",
       "    }\n",
       "\n",
       "    .dataframe tbody tr th {\n",
       "        vertical-align: top;\n",
       "    }\n",
       "\n",
       "    .dataframe thead th {\n",
       "        text-align: right;\n",
       "    }\n",
       "</style>\n",
       "<table border=\"1\" class=\"dataframe\">\n",
       "  <thead>\n",
       "    <tr style=\"text-align: right;\">\n",
       "      <th></th>\n",
       "      <th>gene_id_109</th>\n",
       "      <th>gene_symbol_109</th>\n",
       "      <th>avg_len_109</th>\n",
       "      <th>count_109</th>\n",
       "      <th>rpkm_109</th>\n",
       "      <th>tpm_109</th>\n",
       "      <th>treatment_109</th>\n",
       "      <th>replicate_109</th>\n",
       "      <th>gene_id_1</th>\n",
       "      <th>gene_id_2</th>\n",
       "      <th>gene_id_86</th>\n",
       "      <th>gene_symbol_86</th>\n",
       "      <th>avg_len_86</th>\n",
       "      <th>count_86</th>\n",
       "      <th>rpkm_86</th>\n",
       "      <th>tpm_86</th>\n",
       "      <th>treatment_86</th>\n",
       "      <th>replicate_86</th>\n",
       "    </tr>\n",
       "  </thead>\n",
       "  <tbody>\n",
       "    <tr>\n",
       "      <th>0</th>\n",
       "      <td>ENSG00000008130</td>\n",
       "      <td>NADK</td>\n",
       "      <td>1128.795118</td>\n",
       "      <td>12445</td>\n",
       "      <td>1998.432734</td>\n",
       "      <td>1385.53875</td>\n",
       "      <td>Control_siRNA</td>\n",
       "      <td>1</td>\n",
       "      <td>ENSG00000008130</td>\n",
       "      <td>ENSG00000008130</td>\n",
       "      <td>ENSG00000008130</td>\n",
       "      <td>NADK</td>\n",
       "      <td>1128.795118</td>\n",
       "      <td>12445</td>\n",
       "      <td>1998.433023</td>\n",
       "      <td>1393.94722</td>\n",
       "      <td>Control_siRNA</td>\n",
       "      <td>1</td>\n",
       "    </tr>\n",
       "    <tr>\n",
       "      <th>1</th>\n",
       "      <td>ENSG00000008130</td>\n",
       "      <td>NADK</td>\n",
       "      <td>1128.795118</td>\n",
       "      <td>12445</td>\n",
       "      <td>1998.432734</td>\n",
       "      <td>1385.53875</td>\n",
       "      <td>Control_siRNA</td>\n",
       "      <td>1</td>\n",
       "      <td>ENSG00000008130</td>\n",
       "      <td>ENSG00000008130</td>\n",
       "      <td>ENSG00000008130</td>\n",
       "      <td>NADK</td>\n",
       "      <td>1128.795882</td>\n",
       "      <td>9655</td>\n",
       "      <td>1949.244722</td>\n",
       "      <td>1427.37100</td>\n",
       "      <td>Control_siRNA</td>\n",
       "      <td>2</td>\n",
       "    </tr>\n",
       "    <tr>\n",
       "      <th>2</th>\n",
       "      <td>ENSG00000008130</td>\n",
       "      <td>NADK</td>\n",
       "      <td>1128.795118</td>\n",
       "      <td>12445</td>\n",
       "      <td>1998.432734</td>\n",
       "      <td>1385.53875</td>\n",
       "      <td>Control_siRNA</td>\n",
       "      <td>1</td>\n",
       "      <td>ENSG00000008130</td>\n",
       "      <td>ENSG00000008130</td>\n",
       "      <td>ENSG00000008130</td>\n",
       "      <td>NADK</td>\n",
       "      <td>1128.795882</td>\n",
       "      <td>11352</td>\n",
       "      <td>1915.690916</td>\n",
       "      <td>1416.93483</td>\n",
       "      <td>Control_siRNA</td>\n",
       "      <td>3</td>\n",
       "    </tr>\n",
       "    <tr>\n",
       "      <th>3</th>\n",
       "      <td>ENSG00000008130</td>\n",
       "      <td>NADK</td>\n",
       "      <td>1128.795118</td>\n",
       "      <td>12445</td>\n",
       "      <td>1998.432734</td>\n",
       "      <td>1385.53875</td>\n",
       "      <td>Control_siRNA</td>\n",
       "      <td>1</td>\n",
       "      <td>ENSG00000008130</td>\n",
       "      <td>ENSG00000008130</td>\n",
       "      <td>ENSG00000008130</td>\n",
       "      <td>NADK</td>\n",
       "      <td>1128.792824</td>\n",
       "      <td>14425</td>\n",
       "      <td>2257.191845</td>\n",
       "      <td>1808.24930</td>\n",
       "      <td>STAT5A_siRNA</td>\n",
       "      <td>1</td>\n",
       "    </tr>\n",
       "    <tr>\n",
       "      <th>4</th>\n",
       "      <td>ENSG00000008130</td>\n",
       "      <td>NADK</td>\n",
       "      <td>1128.795118</td>\n",
       "      <td>12445</td>\n",
       "      <td>1998.432734</td>\n",
       "      <td>1385.53875</td>\n",
       "      <td>Control_siRNA</td>\n",
       "      <td>1</td>\n",
       "      <td>ENSG00000008130</td>\n",
       "      <td>ENSG00000008130</td>\n",
       "      <td>ENSG00000008130</td>\n",
       "      <td>NADK</td>\n",
       "      <td>1128.792059</td>\n",
       "      <td>13847</td>\n",
       "      <td>2227.900937</td>\n",
       "      <td>1847.57623</td>\n",
       "      <td>STAT5A_siRNA</td>\n",
       "      <td>2</td>\n",
       "    </tr>\n",
       "  </tbody>\n",
       "</table>\n",
       "</div>"
      ]
     },
     "execution_count": 50,
     "metadata": {},
     "output_type": "execute_result"
    }
   ],
   "execution_count": 50
  },
  {
   "metadata": {
    "ExecuteTime": {
     "end_time": "2024-04-09T11:44:08.706251Z",
     "start_time": "2024-04-09T11:44:08.334383Z"
    }
   },
   "cell_type": "code",
   "source": "control1_109_vs_108 = compare_results(df1=df_109, df2=df_108, suffix1=\"_109\", suffix2=\"_86\")",
   "id": "f3925ce69bff25ed",
   "outputs": [
    {
     "name": "stdout",
     "output_type": "stream",
     "text": [
      "Number of shared genes: 35644\n",
      "Number of unique genes in df1: 14\n",
      "Number of unique genes in df2: 2\n",
      "TPM correlation coefficient: 0.9999998068047933\n",
      "Jaccard coefficient: 0.9995513180033652\n"
     ]
    }
   ],
   "execution_count": 35
  }
 ],
 "metadata": {
  "kernelspec": {
   "display_name": "Python 3",
   "language": "python",
   "name": "python3"
  },
  "language_info": {
   "codemirror_mode": {
    "name": "ipython",
    "version": 2
   },
   "file_extension": ".py",
   "mimetype": "text/x-python",
   "name": "python",
   "nbconvert_exporter": "python",
   "pygments_lexer": "ipython2",
   "version": "2.7.6"
  }
 },
 "nbformat": 4,
 "nbformat_minor": 5
}
